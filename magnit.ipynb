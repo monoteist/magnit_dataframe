{
 "cells": [
  {
   "cell_type": "code",
   "execution_count": 1,
   "id": "21255c47-0513-4ed7-b898-133ebd12b066",
   "metadata": {},
   "outputs": [
    {
     "name": "stdout",
     "output_type": "stream",
     "text": [
      "Requirement already satisfied: pandas in c:\\users\\79292\\anaconda3\\lib\\site-packages (1.2.4)\n",
      "Requirement already satisfied: numpy>=1.16.5 in c:\\users\\79292\\anaconda3\\lib\\site-packages (from pandas) (1.20.1)\n",
      "Requirement already satisfied: pytz>=2017.3 in c:\\users\\79292\\anaconda3\\lib\\site-packages (from pandas) (2021.1)\n",
      "Requirement already satisfied: python-dateutil>=2.7.3 in c:\\users\\79292\\anaconda3\\lib\\site-packages (from pandas) (2.8.1)\n",
      "Requirement already satisfied: six>=1.5 in c:\\users\\79292\\anaconda3\\lib\\site-packages (from python-dateutil>=2.7.3->pandas) (1.15.0)\n"
     ]
    }
   ],
   "source": [
    "!pip install pandas"
   ]
  },
  {
   "cell_type": "code",
   "execution_count": 2,
   "id": "ff4aaafb-4dc2-4747-b755-00fbb562c444",
   "metadata": {},
   "outputs": [],
   "source": [
    "import pandas as pd"
   ]
  },
  {
   "cell_type": "code",
   "execution_count": 3,
   "id": "9e43a252-97b8-4f81-b43c-caa93e43fc3d",
   "metadata": {},
   "outputs": [],
   "source": [
    "data = pd.read_csv('world_countries.csv', delimiter=',')"
   ]
  },
  {
   "cell_type": "code",
   "execution_count": 5,
   "id": "958f9a25-ee2e-42d2-9f4e-bc3765753dc1",
   "metadata": {},
   "outputs": [],
   "source": [
    "people = data.population"
   ]
  },
  {
   "cell_type": "code",
   "execution_count": 6,
   "id": "2217eb8a-6037-4e81-b97b-6873c2ca383a",
   "metadata": {},
   "outputs": [
    {
     "data": {
      "text/plain": [
       "'Страна China . Плотность населения 1313973713 человек.'"
      ]
     },
     "execution_count": 6,
     "metadata": {},
     "output_type": "execute_result"
    }
   ],
   "source": [
    "#Страны с максимальной  плотностью населения и их плотность\n",
    "max_people = data[people == max(people)]\n",
    "country = max_people.country.iloc[0]\n",
    "population = max_people.population.iloc[0]\n",
    "f'Страна {country}. Плотность населения {population} человек.'"
   ]
  },
  {
   "cell_type": "code",
   "execution_count": 7,
   "id": "38c7bd20-a092-4a7f-94bd-082a852054cc",
   "metadata": {},
   "outputs": [
    {
     "data": {
      "text/plain": [
       "'Страна St Pierre & Miquelon . Плотность населения 7026 человек.'"
      ]
     },
     "execution_count": 7,
     "metadata": {},
     "output_type": "execute_result"
    }
   ],
   "source": [
    "#Страны с минимальной  плотностью населения и их плотность \n",
    "min_people = data[people == min(people)]\n",
    "country = min_people.country.iloc[0]\n",
    "population = min_people.population.iloc[0]\n",
    "f'Страна {country}. Плотность населения {population} человек.'"
   ]
  },
  {
   "cell_type": "code",
   "execution_count": 8,
   "id": "b27b4ace-0842-4e85-ae40-c6a08d601290",
   "metadata": {},
   "outputs": [
    {
     "data": {
      "text/plain": [
       "'Число стран 44. Процент от общего числа 19.383259911894275'"
      ]
     },
     "execution_count": 8,
     "metadata": {},
     "output_type": "execute_result"
    }
   ],
   "source": [
    "#Число стран без береговой линии (coastline) и процент таких стран от общего числа стран\n",
    "coastline = data.coastline\n",
    "number_country = len(data[coastline == '0'])\n",
    "percent_country = (number_country * 100) / len(data.country)\n",
    "f'Число стран {number_country}. Процент от общего числа {percent_country}'"
   ]
  },
  {
   "cell_type": "code",
   "execution_count": 93,
   "id": "7c57989f-14cb-476d-854c-b3d5425afa22",
   "metadata": {},
   "outputs": [
    {
     "data": {
      "text/plain": [
       "'Регион SUB-SAHARAN AFRICA                 '"
      ]
     },
     "execution_count": 93,
     "metadata": {},
     "output_type": "execute_result"
    }
   ],
   "source": [
    "#Регион, где меньше всего людей владеют телефонами\n",
    "phones = data.phones_per_1000\n",
    "phones = phones.iloc[::].str.replace(',', '.').astype(float)\n",
    "region_min_phones = data[phones == min(phones)].region.iloc[0]\n",
    "f'Регион {region_min_phones}'"
   ]
  },
  {
   "cell_type": "code",
   "execution_count": 96,
   "id": "e444cc08-c1ff-41f8-8a41-f8143858671c",
   "metadata": {},
   "outputs": [
    {
     "data": {
      "text/plain": [
       "'Список стран: Bosnia & Herzegovina  | Gaza Strip  | Macedonia  | Slovakia  | West Bank '"
      ]
     },
     "execution_count": 96,
     "metadata": {},
     "output_type": "execute_result"
    }
   ],
   "source": [
    "#Список стран, у которых отсутствует показатель грамотности (literacy), и при этом численность населения страны (population) более 1млн человек\n",
    "literacy = data[(data['literacy'].isnull()) & (data.population > 1000000)]\n",
    "literacy = literacy['country'].tolist()\n",
    "f'Список стран: {\" | \".join(literacy)}'"
   ]
  },
  {
   "cell_type": "code",
   "execution_count": 99,
   "id": "c97bfbab-63ec-4789-96a5-81a9071fa5bd",
   "metadata": {},
   "outputs": [
    {
     "data": {
      "text/html": [
       "<div>\n",
       "<style scoped>\n",
       "    .dataframe tbody tr th:only-of-type {\n",
       "        vertical-align: middle;\n",
       "    }\n",
       "\n",
       "    .dataframe tbody tr th {\n",
       "        vertical-align: top;\n",
       "    }\n",
       "\n",
       "    .dataframe thead th {\n",
       "        text-align: right;\n",
       "    }\n",
       "</style>\n",
       "<table border=\"1\" class=\"dataframe\">\n",
       "  <thead>\n",
       "    <tr style=\"text-align: right;\">\n",
       "      <th></th>\n",
       "      <th>country</th>\n",
       "      <th>birthrate</th>\n",
       "      <th>deathrate</th>\n",
       "      <th>proportion</th>\n",
       "    </tr>\n",
       "  </thead>\n",
       "  <tbody>\n",
       "    <tr>\n",
       "      <th>211</th>\n",
       "      <td>Ukraine</td>\n",
       "      <td>8,82</td>\n",
       "      <td>14,39</td>\n",
       "      <td>0.612926</td>\n",
       "    </tr>\n",
       "    <tr>\n",
       "      <th>30</th>\n",
       "      <td>Bulgaria</td>\n",
       "      <td>9,65</td>\n",
       "      <td>14,27</td>\n",
       "      <td>0.676244</td>\n",
       "    </tr>\n",
       "    <tr>\n",
       "      <th>114</th>\n",
       "      <td>Latvia</td>\n",
       "      <td>9,24</td>\n",
       "      <td>13,66</td>\n",
       "      <td>0.676428</td>\n",
       "    </tr>\n",
       "    <tr>\n",
       "      <th>169</th>\n",
       "      <td>Russia</td>\n",
       "      <td>9,95</td>\n",
       "      <td>14,65</td>\n",
       "      <td>0.679181</td>\n",
       "    </tr>\n",
       "    <tr>\n",
       "      <th>138</th>\n",
       "      <td>Monaco</td>\n",
       "      <td>9,19</td>\n",
       "      <td>12,91</td>\n",
       "      <td>0.711851</td>\n",
       "    </tr>\n",
       "  </tbody>\n",
       "</table>\n",
       "</div>"
      ],
      "text/plain": [
       "       country birthrate deathrate  proportion\n",
       "211   Ukraine       8,82     14,39    0.612926\n",
       "30   Bulgaria       9,65     14,27    0.676244\n",
       "114    Latvia       9,24     13,66    0.676428\n",
       "169    Russia       9,95     14,65    0.679181\n",
       "138    Monaco       9,19     12,91    0.711851"
      ]
     },
     "execution_count": 99,
     "metadata": {},
     "output_type": "execute_result"
    }
   ],
   "source": [
    "#Топ 5 стран с самым низким показателем рождаемости (birthrate) по отношению к показателю смертности (deathrate)\n",
    "selected_columns = data[[\"country\", \"birthrate\", \"deathrate\"]]\n",
    "df = selected_columns.copy()\n",
    "df['proportion'] = (birthrate / deathrate)\n",
    "df.sort_values(by=['proportion']).head()"
   ]
  },
  {
   "cell_type": "code",
   "execution_count": 100,
   "id": "4086e79b-2c94-4688-a76c-dbd9f0bc6e48",
   "metadata": {},
   "outputs": [
    {
     "data": {
      "text/plain": [
       "'Страны Somalia '"
      ]
     },
     "execution_count": 100,
     "metadata": {},
     "output_type": "execute_result"
    }
   ],
   "source": [
    "#Страны, в которых преобладает сельское хозяйство (agriculture) над промышленностью (industry) и сферой обслуживания (service) и при этом средний показатель миграции (net migration) по региону положительный\n",
    "countries = data.country\n",
    "agriculture = data.agriculture.iloc[::].str.replace(',', '.').astype(float)\n",
    "industry = data.industry.iloc[::].str.replace(',', '.').astype(float)\n",
    "service = data.service.iloc[::].str.replace(',', '.').astype(float)\n",
    "net_migration = data['net migration'].iloc[::].str.replace(',', '.').astype(float)\n",
    "countries_list = data[(agriculture > industry) & (agriculture > service) & (net_migration > 0)].country.tolist()\n",
    "f'Страны {\" \".join(countries_list)}'"
   ]
  }
 ],
 "metadata": {
  "kernelspec": {
   "display_name": "Python 3",
   "language": "python",
   "name": "python3"
  },
  "language_info": {
   "codemirror_mode": {
    "name": "ipython",
    "version": 3
   },
   "file_extension": ".py",
   "mimetype": "text/x-python",
   "name": "python",
   "nbconvert_exporter": "python",
   "pygments_lexer": "ipython3",
   "version": "3.8.8"
  }
 },
 "nbformat": 4,
 "nbformat_minor": 5
}
